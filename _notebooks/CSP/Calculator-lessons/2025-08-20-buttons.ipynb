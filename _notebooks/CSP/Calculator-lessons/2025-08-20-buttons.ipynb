{
 "cells": [
  {
   "cell_type": "markdown",
   "id": "618b7e6e",
   "metadata": {},
   "source": [
    "# Lesson: Buttons, Variables, and Event Listeners in JavaScript\n",
    "\n",
    "In this lesson, you'll learn how to:\n",
    "\n",
    "- Create buttons in HTML\n",
    "- Use JavaScript to respond to button clicks (event listeners)\n",
    "- Call functions when a button is pressed\n",
    "- Connect these ideas to building a calculator (like in `calculator.md`)\n",
    "\n",
    "By the end, you'll be able to add new operations to your calculator, such as division, integer division, and exponents!"
   ]
  },
  {
   "cell_type": "markdown",
   "id": "b3ddb960",
   "metadata": {},
   "source": [
    "## 1. Creating Buttons in HTML\n",
    "\n",
    "Buttons are created in HTML using the `<button>` tag. For example:\n",
    "\n",
    "```html\n",
    "<button>Click Me!</button>\n",
    "```\n",
    "\n",
    "You can give your button an `id` or a `class` to identify it in JavaScript:\n",
    "\n",
    "```html\n",
    "<button id=\"myButton\">Click Me!</button>\n",
    "```"
   ]
  },
  {
   "cell_type": "markdown",
   "id": "93d239b8",
   "metadata": {},
   "source": [
    "## 2. Using JavaScript to Respond to Button Clicks\n",
    "\n",
    "To make your button do something, you need to use JavaScript. The most common way is to add an **event listener**. This tells the browser to run a function when the button is clicked.\n",
    "\n",
    "Example:\n",
    "\n",
    "```html\n",
    "<button id=\"myButton\">Click Me!</button>\n",
    "<script>\n",
    "  // Get the button element\n",
    "  const button = document.getElementById(\"myButton\");\n",
    "\n",
    "  // Define a function to run when the button is clicked\n",
    "  function sayHello() {\n",
    "    alert(\"Hello!\");\n",
    "  }\n",
    "\n",
    "  // Add the event listener\n",
    "  button.addEventListener(\"click\", sayHello);\n",
    "</script>\n",
    "```\n",
    "\n",
    "- `addEventListener(\"click\", sayHello)` means: when the button is clicked, run the `sayHello` function."
   ]
  },
  {
   "cell_type": "markdown",
   "id": "311b3ed1",
   "metadata": {},
   "source": [
    "## 3. Connecting Buttons to Calculator Functions\n",
    "\n",
    "In the calculator project, each button (number, operation, etc.) is connected to a function using event listeners. For example, when you click the `+` button, a function is called to add numbers.\n",
    "\n",
    "Example from the calculator:\n",
    "\n",
    "```js\n",
    "const addButton = document.querySelector('.calculator-operation'); // selects the + button\n",
    "addButton.addEventListener('click', function() {\n",
    "  // call a function to handle addition\n",
    "  operation('+');\n",
    "});\n",
    "```\n",
    "\n",
    "This pattern is used for all calculator buttons:\n",
    "- Each button has an event listener\n",
    "- When clicked, it calls a function to do the math or update the display"
   ]
  },
  {
   "cell_type": "markdown",
   "id": "88b188c3",
   "metadata": {},
   "source": [
    "## 4. Example: Make a Button to Add Numbers\n",
    "\n",
    "Let's make a simple example: a button that adds two numbers and shows the result.\n",
    "\n",
    "```html\n",
    "<input id=\"num1\" type=\"number\" placeholder=\"First number\">\n",
    "<input id=\"num2\" type=\"number\" placeholder=\"Second number\">\n",
    "<button id=\"addBtn\">Add</button>\n",
    "<div id=\"result\"></div>\n",
    "\n",
    "<script>\n",
    "  const addBtn = document.getElementById('addBtn');\n",
    "  addBtn.addEventListener('click', function() {\n",
    "    const n1 = parseFloat(document.getElementById('num1').value);\n",
    "    const n2 = parseFloat(document.getElementById('num2').value);\n",
    "    document.getElementById('result').innerText = n1 + n2;\n",
    "  });\n",
    "</script>\n",
    "```\n",
    "\n",
    "- Try changing the function to subtract, multiply, or divide!"
   ]
  },
  {
   "cell_type": "markdown",
   "id": "1e55e1d1",
   "metadata": {},
   "source": [
    "## 5. Hack: Add More Operations!\n",
    "\n",
    "Now it's your turn!\n",
    "\n",
    "**Task:**\n",
    "- Add a button for division (`/`) that divides two numbers.\n",
    "- Add a button for integer division (shows only the whole number part, e.g., 7 // 2 = 3).\n",
    "- Add a button for exponents (e.g., 2 ^ 3 = 8).\n",
    "\n",
    "You can use the example above as a starting point. Try to make your own HTML and JavaScript for these buttons!\n",
    "\n",
    "**Hints:**\n",
    "- For integer division in JavaScript, use `Math.floor(a / b)`\n",
    "- For exponents, use `Math.pow(a, b)` or `a ** b`\n",
    "\n",
    "Show your code and test it!"
   ]
  }
 ],
 "metadata": {
  "language_info": {
   "name": "python"
  }
 },
 "nbformat": 4,
 "nbformat_minor": 5
}
